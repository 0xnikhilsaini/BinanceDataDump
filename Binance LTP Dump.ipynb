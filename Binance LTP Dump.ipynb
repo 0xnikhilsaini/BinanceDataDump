{
 "cells": [
  {
   "cell_type": "code",
   "execution_count": null,
   "metadata": {},
   "outputs": [],
   "source": [
    "import datetime\n",
    "import pandas as pd\n",
    "import threading\n",
    "from binance.client import Client\n",
    "import time"
   ]
  },
  {
   "cell_type": "code",
   "execution_count": null,
   "metadata": {},
   "outputs": [],
   "source": [
    "#fetch login credentials\n",
    "api_key = pd.read_csv('login_credentials.csv').iloc[0]['api_key']\n",
    "api_secret = pd.read_csv('login_credentials.csv').iloc[0]['api_secret']\n",
    "#create client object\n",
    "client = Client(api_key, api_secret)"
   ]
  },
  {
   "cell_type": "code",
   "execution_count": null,
   "metadata": {},
   "outputs": [],
   "source": [
    "def get_ltp():\n",
    "    while True:\n",
    "        # get all symbol prices\n",
    "        prices = client.get_all_tickers()\n",
    "        time = datetime.datetime.now().strftime('%d-%m-%Y %H:%M:%S')\n",
    "        for i in range(len(prices)):\n",
    "            #get symbol\n",
    "            symbol = prices[i]['symbol']\n",
    "            #read symbol file\n",
    "            df = pd.read_pickle('/Users/Infrastructure/Binance/LTP Dump/{}.pkl'.format(symbol))\n",
    "            #add data to the last row\n",
    "            df.loc[len(df)] = {'Datetime':time,'Ticker':(prices[i]['symbol']),'LTP':prices[i]['price']}\n",
    "            #save the file back to pkl\n",
    "            df.to_pickle('/Users/Infrastructure/Binance/LTP Dump/{}.pkl'.format(symbol))"
   ]
  },
  {
   "cell_type": "code",
   "execution_count": null,
   "metadata": {},
   "outputs": [],
   "source": [
    "while True: \n",
    "    try:\n",
    "        t1=threading.Thread(target = get_ltp())\n",
    "    except:\n",
    "        time.sleep(0.1)\n",
    "        continue"
   ]
  },
  {
   "cell_type": "code",
   "execution_count": null,
   "metadata": {},
   "outputs": [],
   "source": [
    "#prices = client.get_all_tickers()\n",
    "#for i in range(len(prices)):\n",
    "#    symbol = prices[i]['symbol']\n",
    "#    df = pd.DataFrame(columns=['Datetime','Ticker','LTP'])\n",
    "#    df.to_pickle('/Users/yashraj/Multibillionaire/Infrastructure/Binance/LTP Dump/{}.pkl'.format(symbol))"
   ]
  }
 ],
 "metadata": {
  "kernelspec": {
   "display_name": "Python 3",
   "language": "python",
   "name": "python3"
  },
  "language_info": {
   "codemirror_mode": {
    "name": "ipython",
    "version": 3
   },
   "file_extension": ".py",
   "mimetype": "text/x-python",
   "name": "python",
   "nbconvert_exporter": "python",
   "pygments_lexer": "ipython3",
   "version": "3.7.6"
  }
 },
 "nbformat": 4,
 "nbformat_minor": 4
}
